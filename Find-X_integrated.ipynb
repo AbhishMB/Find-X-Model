{
 "cells": [
  {
   "cell_type": "code",
   "execution_count": 5,
   "metadata": {},
   "outputs": [],
   "source": [
    "import os\n",
    "import pandas as pd\n",
    "import cv2\n",
    "import numpy as np\n",
    "import easyocr\n",
    "import spacy\n",
    "import re\n",
    "from tqdm import tqdm\n",
    "import torch\n",
    "from collections import defaultdict"
   ]
  },
  {
   "cell_type": "code",
   "execution_count": 6,
   "metadata": {},
   "outputs": [
    {
     "name": "stdout",
     "output_type": "stream",
     "text": [
      "CUDA Available: True\n",
      "GPU Name: NVIDIA GeForce RTX 3050 Laptop GPU\n"
     ]
    }
   ],
   "source": [
    "print(\"CUDA Available:\", torch.cuda.is_available())\n",
    "\n",
    "# Check GPU details\n",
    "if torch.cuda.is_available():\n",
    "    print(\"GPU Name:\", torch.cuda.get_device_name(0))"
   ]
  },
  {
   "cell_type": "markdown",
   "metadata": {},
   "source": [
    "### ModelX"
   ]
  },
  {
   "cell_type": "markdown",
   "metadata": {},
   "source": [
    "* Constants"
   ]
  },
  {
   "cell_type": "code",
   "execution_count": 7,
   "metadata": {},
   "outputs": [],
   "source": [
    "entity_unit_map = {\n",
    "    'width': {'centimetre': 'cm', 'foot': 'ft', 'inch': 'in', 'metre': 'm', 'millimetre': 'mm', 'yard': 'yd'},\n",
    "    'depth': {'centimetre': 'cm', 'foot': 'ft', 'inch': 'in', 'metre': 'm', 'millimetre': 'mm', 'yard': 'yd'},\n",
    "    'height': {'centimetre': 'cm', 'foot': 'ft', 'inch': 'in', 'metre': 'm', 'millimetre': 'mm', 'yard': 'yd'},\n",
    "    'item_weight': {'gram': 'g', 'kilogram': 'kg', 'microgram': 'µg', 'milligram': 'mg', 'ounce': 'oz', 'pound': 'lb', 'ton': 't'},\n",
    "    'maximum_weight_recommendation': {'gram': 'g', 'kilogram': 'kg', 'microgram': 'µg', 'milligram': 'mg', 'ounce': 'oz', 'pound': 'lb', 'ton': 't'},\n",
    "    'voltage': {'kilovolt': 'kV', 'millivolt': 'mV', 'volt': 'V'},\n",
    "    'wattage': {'kilowatt': 'kW', 'watt': 'W'},\n",
    "    'item_volume': {'centilitre': 'cl', 'cubic foot': 'ft³', 'cubic inch': 'in³', 'cup': 'cup', 'decilitre': 'dl', 'fluid ounce': 'fl oz', 'gallon': 'gal', 'litre': 'L'}\n",
    "}\n",
    "\n",
    "allowed_units = {unit for entity in entity_unit_map for unit in entity_unit_map[entity]} | \\\n",
    "                {abbr for entity in entity_unit_map for abbr in entity_unit_map[entity].values()}\n",
    "allowed_units = allowed_units | {unit + 's' for unit in allowed_units}  # Add plural versions"
   ]
  },
  {
   "cell_type": "markdown",
   "metadata": {},
   "source": [
    "* ModelX scripts"
   ]
  },
  {
   "cell_type": "code",
   "execution_count": 8,
   "metadata": {},
   "outputs": [
    {
     "name": "stderr",
     "output_type": "stream",
     "text": [
      "d:\\Amazon\\student_resource 3-20240913T063614Z-001\\student_resource 3\\dataset\\venv\\Lib\\site-packages\\easyocr\\detection.py:85: FutureWarning: You are using `torch.load` with `weights_only=False` (the current default value), which uses the default pickle module implicitly. It is possible to construct malicious pickle data which will execute arbitrary code during unpickling (See https://github.com/pytorch/pytorch/blob/main/SECURITY.md#untrusted-models for more details). In a future release, the default value for `weights_only` will be flipped to `True`. This limits the functions that could be executed during unpickling. Arbitrary objects will no longer be allowed to be loaded via this mode unless they are explicitly allowlisted by the user via `torch.serialization.add_safe_globals`. We recommend you start setting `weights_only=True` for any use case where you don't have full control of the loaded file. Please open an issue on GitHub for any issues related to this experimental feature.\n",
      "  net.load_state_dict(copyStateDict(torch.load(trained_model, map_location=device)))\n",
      "d:\\Amazon\\student_resource 3-20240913T063614Z-001\\student_resource 3\\dataset\\venv\\Lib\\site-packages\\easyocr\\recognition.py:182: FutureWarning: You are using `torch.load` with `weights_only=False` (the current default value), which uses the default pickle module implicitly. It is possible to construct malicious pickle data which will execute arbitrary code during unpickling (See https://github.com/pytorch/pytorch/blob/main/SECURITY.md#untrusted-models for more details). In a future release, the default value for `weights_only` will be flipped to `True`. This limits the functions that could be executed during unpickling. Arbitrary objects will no longer be allowed to be loaded via this mode unless they are explicitly allowlisted by the user via `torch.serialization.add_safe_globals`. We recommend you start setting `weights_only=True` for any use case where you don't have full control of the loaded file. Please open an issue on GitHub for any issues related to this experimental feature.\n",
      "  model.load_state_dict(torch.load(model_path, map_location=device))\n"
     ]
    }
   ],
   "source": [
    "# Initialize EasyOCR Reader and spaCy\n",
    "reader = easyocr.Reader(['en'], gpu=True)  # Set gpu=True if using GPU\n",
    "nlp = spacy.load(\"en_core_web_sm\")"
   ]
  },
  {
   "cell_type": "code",
   "execution_count": 9,
   "metadata": {},
   "outputs": [],
   "source": [
    "def perform_ocr(image_path):\n",
    "    image_cv = cv2.imread(image_path)  # Read the image with OpenCV\n",
    "    result = reader.readtext(image_cv)  # Perform OCR\n",
    "    extracted_text = ' '.join([text for (bbox, text, prob) in result])  # Extract and combine all detected text\n",
    "    return extracted_text"
   ]
  },
  {
   "cell_type": "code",
   "execution_count": 10,
   "metadata": {},
   "outputs": [],
   "source": [
    "def detect_units(extracted_text, entity_type, entity_unit_map, allowed_units):\n",
    "    pattern = re.compile(r'(\\d+\\.?\\d*)\\s*([a-zA-Zµ]+)', re.IGNORECASE)\n",
    "    doc = nlp(extracted_text)\n",
    "    \n",
    "    matches = []\n",
    "    for sent in doc.sents:\n",
    "        for match in re.findall(pattern, sent.text):\n",
    "            number, unit = match\n",
    "            number = float(number)  # Convert the number part to float for comparison\n",
    "            unit = unit.lower()  # Normalize the unit\n",
    "            \n",
    "            if unit in allowed_units:\n",
    "                for full_unit, abbreviation in entity_unit_map[entity_type].items():\n",
    "                    if unit == abbreviation or (unit.endswith('s') and unit[:-1] == abbreviation):  # Handle plurals\n",
    "                        matches.append((number, full_unit))  # Store as tuple (number, unit)\n",
    "    \n",
    "    if matches:\n",
    "        largest_match = max(matches, key=lambda x: x[0])  # Find the tuple with the greatest number\n",
    "        return f\"{largest_match[0]} {largest_match[1]}\"\n",
    "    else:\n",
    "        return np.nan"
   ]
  },
  {
   "cell_type": "markdown",
   "metadata": {},
   "source": [
    "### Read CSV"
   ]
  },
  {
   "cell_type": "code",
   "execution_count": 11,
   "metadata": {},
   "outputs": [],
   "source": [
    "df = pd.read_csv('test1.csv')"
   ]
  },
  {
   "cell_type": "code",
   "execution_count": 12,
   "metadata": {},
   "outputs": [
    {
     "data": {
      "text/html": [
       "<div>\n",
       "<style scoped>\n",
       "    .dataframe tbody tr th:only-of-type {\n",
       "        vertical-align: middle;\n",
       "    }\n",
       "\n",
       "    .dataframe tbody tr th {\n",
       "        vertical-align: top;\n",
       "    }\n",
       "\n",
       "    .dataframe thead th {\n",
       "        text-align: right;\n",
       "    }\n",
       "</style>\n",
       "<table border=\"1\" class=\"dataframe\">\n",
       "  <thead>\n",
       "    <tr style=\"text-align: right;\">\n",
       "      <th></th>\n",
       "      <th>index</th>\n",
       "      <th>image_link</th>\n",
       "      <th>group_id</th>\n",
       "      <th>entity_name</th>\n",
       "    </tr>\n",
       "  </thead>\n",
       "  <tbody>\n",
       "    <tr>\n",
       "      <th>0</th>\n",
       "      <td>0</td>\n",
       "      <td>https://m.media-amazon.com/images/I/110EibNycl...</td>\n",
       "      <td>156839</td>\n",
       "      <td>height</td>\n",
       "    </tr>\n",
       "    <tr>\n",
       "      <th>1</th>\n",
       "      <td>1</td>\n",
       "      <td>https://m.media-amazon.com/images/I/11TU2clswz...</td>\n",
       "      <td>792578</td>\n",
       "      <td>width</td>\n",
       "    </tr>\n",
       "    <tr>\n",
       "      <th>2</th>\n",
       "      <td>2</td>\n",
       "      <td>https://m.media-amazon.com/images/I/11TU2clswz...</td>\n",
       "      <td>792578</td>\n",
       "      <td>height</td>\n",
       "    </tr>\n",
       "    <tr>\n",
       "      <th>3</th>\n",
       "      <td>3</td>\n",
       "      <td>https://m.media-amazon.com/images/I/11TU2clswz...</td>\n",
       "      <td>792578</td>\n",
       "      <td>depth</td>\n",
       "    </tr>\n",
       "    <tr>\n",
       "      <th>4</th>\n",
       "      <td>4</td>\n",
       "      <td>https://m.media-amazon.com/images/I/11gHj8dhhr...</td>\n",
       "      <td>792578</td>\n",
       "      <td>depth</td>\n",
       "    </tr>\n",
       "  </tbody>\n",
       "</table>\n",
       "</div>"
      ],
      "text/plain": [
       "   index                                         image_link  group_id  \\\n",
       "0      0  https://m.media-amazon.com/images/I/110EibNycl...    156839   \n",
       "1      1  https://m.media-amazon.com/images/I/11TU2clswz...    792578   \n",
       "2      2  https://m.media-amazon.com/images/I/11TU2clswz...    792578   \n",
       "3      3  https://m.media-amazon.com/images/I/11TU2clswz...    792578   \n",
       "4      4  https://m.media-amazon.com/images/I/11gHj8dhhr...    792578   \n",
       "\n",
       "  entity_name  \n",
       "0      height  \n",
       "1       width  \n",
       "2      height  \n",
       "3       depth  \n",
       "4       depth  "
      ]
     },
     "execution_count": 12,
     "metadata": {},
     "output_type": "execute_result"
    }
   ],
   "source": [
    "df.head()"
   ]
  },
  {
   "cell_type": "code",
   "execution_count": 13,
   "metadata": {},
   "outputs": [
    {
     "data": {
      "text/plain": [
       "(43729, 4)"
      ]
     },
     "execution_count": 13,
     "metadata": {},
     "output_type": "execute_result"
    }
   ],
   "source": [
    "df.shape"
   ]
  },
  {
   "cell_type": "markdown",
   "metadata": {},
   "source": [
    "### Batch processing"
   ]
  },
  {
   "cell_type": "code",
   "execution_count": 45,
   "metadata": {},
   "outputs": [],
   "source": []
  },
  {
   "cell_type": "code",
   "execution_count": 16,
   "metadata": {},
   "outputs": [],
   "source": [
    "freq = defaultdict(tuple)\n",
    "\n",
    "def batch_process(df, batch_size):\n",
    "    results = []\n",
    "\n",
    "    for i in tqdm(range(0, len(df), batch_size)):\n",
    "        batch = df.iloc[i: i+batch_size]\n",
    "\n",
    "        for idx, row in batch.iterrows():\n",
    "            image_name = str(row['index']) + '.jpg'\n",
    "            image_path = os.path.join('images', image_name)\n",
    "\n",
    "            if os.path.exists(image_path):\n",
    "                extracted_text = perform_ocr(image_path)\n",
    "                entity_name = row['entity_name']\n",
    "                group_id = row['group_id']\n",
    "                # result\n",
    "                result = detect_units(extracted_text, entity_name, entity_unit_map, allowed_units)\n",
    "\n",
    "                if result == None:\n",
    "                    if (group_id, entity_name) in freq:\n",
    "                        result.append({'index': row['index'], 'prediction': freq[(group_id, entity_name)]})\n",
    "                    else:\n",
    "                        results.append({'index': row['index'], 'prediction': result})       \n",
    "                else:\n",
    "                    results.append({'index': row['index'], 'prediction': result})\n",
    "                    if not (group_id, entity_name) in freq:\n",
    "                        freq[(group_id, entity_name)] = result\n",
    "\n",
    "                os.system('cls' if os.system == 'nt' else 'clear')\n",
    "            else:\n",
    "                results.append({'index': row['index'], 'prediction': ''})\n",
    "    \n",
    "    return pd.DataFrame(results)"
   ]
  },
  {
   "cell_type": "markdown",
   "metadata": {},
   "source": [
    "* Run"
   ]
  },
  {
   "cell_type": "code",
   "execution_count": 18,
   "metadata": {},
   "outputs": [
    {
     "name": "stderr",
     "output_type": "stream",
     "text": [
      "  9%|▉         | 61/684 [32:38<9:19:42, 53.90s/it]"
     ]
    }
   ],
   "source": [
    "batch_size = 64\n",
    "results_df = batch_process(df,batch_size)\n",
    "results_df.to_csv('first_output.csv')"
   ]
  }
 ],
 "metadata": {
  "kernelspec": {
   "display_name": "venv",
   "language": "python",
   "name": "python3"
  },
  "language_info": {
   "codemirror_mode": {
    "name": "ipython",
    "version": 3
   },
   "file_extension": ".py",
   "mimetype": "text/x-python",
   "name": "python",
   "nbconvert_exporter": "python",
   "pygments_lexer": "ipython3",
   "version": "3.12.4"
  }
 },
 "nbformat": 4,
 "nbformat_minor": 2
}
